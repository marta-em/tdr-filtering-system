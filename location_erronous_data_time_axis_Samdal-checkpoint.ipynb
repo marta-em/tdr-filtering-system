{
 "cells": [
  {
   "cell_type": "code",
   "execution_count": null,
   "metadata": {
    "collapsed": true
   },
   "outputs": [],
   "source": [
    "%%time\n",
    "\n",
    "import numpy as np\n",
    "import pandas as pd\n",
    "\n",
    "# sample data\n",
    "speed = np.random.uniform(0,25,15000000)\n",
    "next_speed = speed[1:]\n",
    "\n",
    "# create a dataframe\n",
    "data_dict = {'speed': speed[:-1],\n",
    "            'next_speed': next_speed}\n",
    "\n",
    "df = pd.DataFrame(data_dict)\n",
    "\n"
   ]
  },
  {
   "cell_type": "code",
   "execution_count": 1,
   "metadata": {
    "collapsed": false
   },
   "outputs": [
    {
     "name": "stdout",
     "output_type": "stream",
     "text": [
      "Wall time: 52.3 s\n"
     ]
    }
   ],
   "source": [
    "%%time\n",
    "\n",
    "import numpy as np\n",
    "import pandas as pd\n",
    "import matplotlib.pyplot as plt\n",
    "\n",
    "from sklearn.preprocessing import MinMaxScaler\n",
    "from scipy import spatial\n",
    "from datetime import timedelta\n",
    "import seaborn as sns\n",
    "\n",
    "\n",
    "df = pd.read_csv('D:\\data from MnM Samdal raw\\Samdal_power_1s.csv',  parse_dates=[0], index_col = 0, low_memory=False)"
   ]
  },
  {
   "cell_type": "code",
   "execution_count": 3,
   "metadata": {
    "collapsed": false
   },
   "outputs": [],
   "source": [
    "df2 = df[(df.power<1600) & (df.speed<6)&(1000<df.power)]\n"
   ]
  },
  {
   "cell_type": "code",
   "execution_count": 7,
   "metadata": {
    "collapsed": false
   },
   "outputs": [
    {
     "data": {
      "text/plain": [
       "16.835833333333333"
      ]
     },
     "execution_count": 7,
     "metadata": {},
     "output_type": "execute_result"
    }
   ],
   "source": [
    "len(df2)/3600"
   ]
  },
  {
   "cell_type": "code",
   "execution_count": 32,
   "metadata": {
    "collapsed": false
   },
   "outputs": [
    {
     "data": {
      "text/plain": [
       "60609"
      ]
     },
     "execution_count": 32,
     "metadata": {},
     "output_type": "execute_result"
    }
   ],
   "source": [
    "len(df2)"
   ]
  },
  {
   "cell_type": "code",
   "execution_count": 40,
   "metadata": {
    "collapsed": false
   },
   "outputs": [],
   "source": [
    "df3 = df2.resample('1h').mean()"
   ]
  },
  {
   "cell_type": "code",
   "execution_count": 73,
   "metadata": {
    "collapsed": true
   },
   "outputs": [],
   "source": [
    "df3 =df3[(df3.power<1600) & (df3.speed<6)&(1300<df3.power)]"
   ]
  },
  {
   "cell_type": "code",
   "execution_count": 82,
   "metadata": {
    "collapsed": false
   },
   "outputs": [],
   "source": [
    "new_index = pd.date_range(start = '2011-04-21 10:00:00', end = '2011-10-10 21:00:00', freq = '1H')\n",
    "df4 = df3.reindex(index = new_index)"
   ]
  },
  {
   "cell_type": "code",
   "execution_count": 79,
   "metadata": {
    "collapsed": false
   },
   "outputs": [],
   "source": [
    "df3.to_excel('outlier_dates_line_above_curve.xlsx')"
   ]
  },
  {
   "cell_type": "code",
   "execution_count": 95,
   "metadata": {
    "collapsed": false
   },
   "outputs": [],
   "source": [
    "# plot of 1500 kW outliers on a time axis . location of erronous data on time axis\n",
    "\n",
    "plt.plot(df4.power, marker='o', label = 'data points around 1500 [kW] (erroneous data)')\n",
    "\n",
    "plt.xlabel('time', fontsize = 26)\n",
    "plt.ylabel('power [kW]', fontsize = 26)\n",
    "# plt.xlim(-1,)\n",
    "# plt.ylim(-100,)\n",
    "plt.xticks(fontsize=20)\n",
    "plt.yticks(fontsize=20)\n",
    "plt.legend(fontsize=22, bbox_to_anchor=(0.6, 1.01), loc=3)\n",
    "\n",
    "plt.show()"
   ]
  },
  {
   "cell_type": "code",
   "execution_count": 99,
   "metadata": {
    "collapsed": false
   },
   "outputs": [],
   "source": [
    "\n",
    "plt.scatter(df.speed, df.power, c='r', s=50)\n",
    "\n",
    "#plt.legend()\n",
    "\n",
    "plt.xlabel('wind speed [m/s]', fontsize = 26)\n",
    "plt.ylabel('power [kW]', fontsize = 26)\n",
    "# plt.xlim(-1,)\n",
    "# plt.ylim(-100,)\n",
    "plt.xticks(fontsize=20)\n",
    "plt.yticks(fontsize=20)\n",
    "\n",
    "# plt.title('After outliers removal, 1min. interval, threshold>%.1f' % thresh_differ_spd, \n",
    "#           fontsize = 28)\n",
    "\n",
    "\n",
    "plt.show()"
   ]
  },
  {
   "cell_type": "code",
   "execution_count": 78,
   "metadata": {
    "collapsed": false
   },
   "outputs": [],
   "source": [
    "plt.plot(df3.power, c='r')\n",
    "plt.show()"
   ]
  }
 ],
 "metadata": {
  "kernelspec": {
   "display_name": "Python 3",
   "language": "python",
   "name": "python3"
  },
  "language_info": {
   "codemirror_mode": {
    "name": "ipython",
    "version": 3
   },
   "file_extension": ".py",
   "mimetype": "text/x-python",
   "name": "python",
   "nbconvert_exporter": "python",
   "pygments_lexer": "ipython3",
   "version": "3.5.1"
  }
 },
 "nbformat": 4,
 "nbformat_minor": 0
}
